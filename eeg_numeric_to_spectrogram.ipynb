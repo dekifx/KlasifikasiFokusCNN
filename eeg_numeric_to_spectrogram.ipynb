{
  "nbformat": 4,
  "nbformat_minor": 0,
  "metadata": {
    "colab": {
      "provenance": []
    },
    "kernelspec": {
      "name": "python3",
      "display_name": "Python 3"
    },
    "language_info": {
      "name": "python"
    }
  },
  "cells": [
    {
      "cell_type": "markdown",
      "source": [
        "# **Konversi Data Ke Spektogram**"
      ],
      "metadata": {
        "id": "v7t0IXxfYuBh"
      }
    },
    {
      "cell_type": "code",
      "source": [
        "import numpy as np\n",
        "import pandas as pd\n",
        "from scipy.signal import spectrogram\n",
        "import matplotlib.pyplot as plt\n",
        "import os\n",
        "from pathlib import Path\n",
        "\n",
        "df = pd.read_csv('/content/drive/MyDrive/EEG Mental State Data/EEG_mental.csv')\n",
        "\n",
        "# Ambil data EEG kecuali kolom terakhir (Label)\n",
        "eeg_data = df.iloc[:, :-1].values\n",
        "\n",
        "# Kolom label\n",
        "labels = df.iloc[:, -1].values\n",
        "\n",
        "# Frekuensi sampling data\n",
        "fs = 1000\n",
        "\n",
        "# Path penyimpanan\n",
        "output_dir = '/content/drive/MyDrive/EEG Mental State Data/spectrograms/'\n",
        "Path(output_dir).mkdir(parents=True, exist_ok=True)\n",
        "\n",
        "# Konversi data\n",
        "for i in range(len(df)):\n",
        "    label = str(labels[i])\n",
        "    output_path = os.path.join(output_dir, label)\n",
        "\n",
        "    Path(output_path).mkdir(parents=True, exist_ok=True)\n",
        "\n",
        "    # Generate spectrogram\n",
        "    frequencies, times, Sxx = spectrogram(eeg_data[i], fs)\n",
        "\n",
        "    # Plot spectrogram\n",
        "    plt.pcolormesh(times, frequencies, 10 * np.log10(Sxx))\n",
        "    plt.ylabel('Frequency [Hz]')\n",
        "    plt.xlabel('Time [sec]')\n",
        "    plt.title(f'EEG Spectrogram for Label {label}')\n",
        "    plt.colorbar(label='Power/Frequency (dB/Hz)')\n",
        "\n",
        "    # Simpan dalam file png\n",
        "    output_filename = f'spectrogram_{i}.png'\n",
        "    output_filepath = os.path.join(output_path, output_filename)\n",
        "    plt.savefig(output_filepath)\n",
        "    plt.close()\n",
        "\n",
        "print(\"Spectrograms saved successfully.\")\n"
      ],
      "metadata": {
        "colab": {
          "base_uri": "https://localhost:8080/"
        },
        "id": "DJmJCrtTh7wg",
        "outputId": "b49aff55-cf36-40ac-f66c-43c47b1e56f2"
      },
      "execution_count": null,
      "outputs": [
        {
          "output_type": "stream",
          "name": "stdout",
          "text": [
            "Spectrograms saved successfully.\n"
          ]
        }
      ]
    }
  ]
}